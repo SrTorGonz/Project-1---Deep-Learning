{
  "nbformat": 4,
  "nbformat_minor": 0,
  "metadata": {
    "colab": {
      "provenance": [],
      "gpuType": "T4",
      "include_colab_link": true
    },
    "kernelspec": {
      "name": "python3",
      "display_name": "Python 3"
    },
    "language_info": {
      "name": "python"
    },
    "accelerator": "GPU"
  },
  "cells": [
    {
      "cell_type": "markdown",
      "metadata": {
        "id": "view-in-github",
        "colab_type": "text"
      },
      "source": [
        "<a href=\"https://colab.research.google.com/github/SrTorGonz/Project-1---Deep-Learning/blob/main/Project_1_Daniel_Torres_Juan_Plata.ipynb\" target=\"_parent\"><img src=\"https://colab.research.google.com/assets/colab-badge.svg\" alt=\"Open In Colab\"/></a>"
      ]
    },
    {
      "cell_type": "markdown",
      "source": [
        "**Autores:** Daniel Alejandro Torres González & Juan David Plata Garrido\n"
      ],
      "metadata": {
        "id": "iugNdQf4Quul"
      }
    },
    {
      "cell_type": "code",
      "source": [
        "!pip install keras-tuner"
      ],
      "metadata": {
        "colab": {
          "base_uri": "https://localhost:8080/"
        },
        "id": "-lLcBToG-BPN",
        "outputId": "1d330dc6-a123-4612-ad45-a64d856bca73"
      },
      "execution_count": 1,
      "outputs": [
        {
          "output_type": "stream",
          "name": "stdout",
          "text": [
            "Collecting keras-tuner\n",
            "  Downloading keras_tuner-1.4.7-py3-none-any.whl.metadata (5.4 kB)\n",
            "Requirement already satisfied: keras in /usr/local/lib/python3.11/dist-packages (from keras-tuner) (3.8.0)\n",
            "Requirement already satisfied: packaging in /usr/local/lib/python3.11/dist-packages (from keras-tuner) (24.2)\n",
            "Requirement already satisfied: requests in /usr/local/lib/python3.11/dist-packages (from keras-tuner) (2.32.3)\n",
            "Collecting kt-legacy (from keras-tuner)\n",
            "  Downloading kt_legacy-1.0.5-py3-none-any.whl.metadata (221 bytes)\n",
            "Requirement already satisfied: absl-py in /usr/local/lib/python3.11/dist-packages (from keras->keras-tuner) (1.4.0)\n",
            "Requirement already satisfied: numpy in /usr/local/lib/python3.11/dist-packages (from keras->keras-tuner) (1.26.4)\n",
            "Requirement already satisfied: rich in /usr/local/lib/python3.11/dist-packages (from keras->keras-tuner) (13.9.4)\n",
            "Requirement already satisfied: namex in /usr/local/lib/python3.11/dist-packages (from keras->keras-tuner) (0.0.8)\n",
            "Requirement already satisfied: h5py in /usr/local/lib/python3.11/dist-packages (from keras->keras-tuner) (3.12.1)\n",
            "Requirement already satisfied: optree in /usr/local/lib/python3.11/dist-packages (from keras->keras-tuner) (0.14.0)\n",
            "Requirement already satisfied: ml-dtypes in /usr/local/lib/python3.11/dist-packages (from keras->keras-tuner) (0.4.1)\n",
            "Requirement already satisfied: charset-normalizer<4,>=2 in /usr/local/lib/python3.11/dist-packages (from requests->keras-tuner) (3.4.1)\n",
            "Requirement already satisfied: idna<4,>=2.5 in /usr/local/lib/python3.11/dist-packages (from requests->keras-tuner) (3.10)\n",
            "Requirement already satisfied: urllib3<3,>=1.21.1 in /usr/local/lib/python3.11/dist-packages (from requests->keras-tuner) (2.3.0)\n",
            "Requirement already satisfied: certifi>=2017.4.17 in /usr/local/lib/python3.11/dist-packages (from requests->keras-tuner) (2025.1.31)\n",
            "Requirement already satisfied: typing-extensions>=4.5.0 in /usr/local/lib/python3.11/dist-packages (from optree->keras->keras-tuner) (4.12.2)\n",
            "Requirement already satisfied: markdown-it-py>=2.2.0 in /usr/local/lib/python3.11/dist-packages (from rich->keras->keras-tuner) (3.0.0)\n",
            "Requirement already satisfied: pygments<3.0.0,>=2.13.0 in /usr/local/lib/python3.11/dist-packages (from rich->keras->keras-tuner) (2.18.0)\n",
            "Requirement already satisfied: mdurl~=0.1 in /usr/local/lib/python3.11/dist-packages (from markdown-it-py>=2.2.0->rich->keras->keras-tuner) (0.1.2)\n",
            "Downloading keras_tuner-1.4.7-py3-none-any.whl (129 kB)\n",
            "\u001b[2K   \u001b[90m━━━━━━━━━━━━━━━━━━━━━━━━━━━━━━━━━━━━━━━━\u001b[0m \u001b[32m129.1/129.1 kB\u001b[0m \u001b[31m9.4 MB/s\u001b[0m eta \u001b[36m0:00:00\u001b[0m\n",
            "\u001b[?25hDownloading kt_legacy-1.0.5-py3-none-any.whl (9.6 kB)\n",
            "Installing collected packages: kt-legacy, keras-tuner\n",
            "Successfully installed keras-tuner-1.4.7 kt-legacy-1.0.5\n"
          ]
        }
      ]
    },
    {
      "cell_type": "code",
      "execution_count": 2,
      "metadata": {
        "id": "Ig3nosRezG21"
      },
      "outputs": [],
      "source": [
        "# Carga de librerías\n",
        "import numpy as np\n",
        "import random\n",
        "import tensorflow as tf\n",
        "import matplotlib.pyplot as plt\n",
        "import keras_tuner as kt\n",
        "\n",
        "from sklearn.model_selection import train_test_split\n",
        "# Carga de módulos\n",
        "from tensorflow.keras.models import Sequential\n",
        "from tensorflow.keras.layers import Flatten, Dense\n",
        "from tensorflow.keras.utils import to_categorical\n",
        "from tensorflow.keras.optimizers import Adam\n",
        "\n",
        "from tensorflow.keras.layers import Dropout\n",
        "from tensorflow.keras.regularizers import l2\n",
        "from tensorflow.keras.callbacks import EarlyStopping\n"
      ]
    },
    {
      "cell_type": "markdown",
      "source": [
        "Cargar imágenes, para esto se deben subir a colab los archivos .npz colocados en GitHub"
      ],
      "metadata": {
        "id": "1Th78TP5Wf2B"
      }
    },
    {
      "cell_type": "code",
      "source": [
        "# Cargar imágenes y etiquetas\n",
        "train_images = np.load('k49-train-imgs.npz')['arr_0']\n",
        "train_labels = np.load('k49-train-labels.npz')['arr_0']\n",
        "test_images = np.load('k49-test-imgs.npz')['arr_0']\n",
        "test_labels = np.load('k49-test-labels.npz')['arr_0']\n",
        "\n",
        "print(\"Tamaño de datos de entrenamiento:\", train_images.shape)\n",
        "print(\"Tamaño de datos de prueba:\", test_images.shape)"
      ],
      "metadata": {
        "colab": {
          "base_uri": "https://localhost:8080/"
        },
        "id": "fFxmEvWAVUeR",
        "outputId": "2adacca6-9b70-4aa8-d63e-f28fcf0350eb"
      },
      "execution_count": 3,
      "outputs": [
        {
          "output_type": "stream",
          "name": "stdout",
          "text": [
            "Tamaño de datos de entrenamiento: (232365, 28, 28)\n",
            "Tamaño de datos de prueba: (38547, 28, 28)\n"
          ]
        }
      ]
    },
    {
      "cell_type": "markdown",
      "source": [
        "Normalizar imágenes y redimensionar para indicar que las imagenes estan en escala de grises"
      ],
      "metadata": {
        "id": "5vuWV3iXWufQ"
      }
    },
    {
      "cell_type": "code",
      "source": [
        "# Normalizar imágenes\n",
        "train_images = train_images / 255.0\n",
        "test_images = test_images / 255.0\n",
        "\n",
        "# Añadir canal de color (grayscale -> (28, 28, 1))\n",
        "train_images = train_images.reshape(-1, 28, 28, 1)\n",
        "test_images = test_images.reshape(-1, 28, 28, 1)\n",
        "\n",
        "# Verificar dimensiones\n",
        "print(\"Dimensiones finales de entrenamiento:\", train_images.shape)"
      ],
      "metadata": {
        "colab": {
          "base_uri": "https://localhost:8080/"
        },
        "id": "71Co2tqSW_60",
        "outputId": "f33f37e1-b811-4efa-9271-1621b6c05a61"
      },
      "execution_count": 4,
      "outputs": [
        {
          "output_type": "stream",
          "name": "stdout",
          "text": [
            "Dimensiones finales de entrenamiento: (232365, 28, 28, 1)\n"
          ]
        }
      ]
    },
    {
      "cell_type": "markdown",
      "source": [
        "Se aleatorizan los datos y se crean los arreglos de validacion con la misma cantidad de datos de test, el random state 42 asegura que se va a obtener la misma aleatorizacion en caso de volver a correr el codigo"
      ],
      "metadata": {
        "id": "zywcvDEDcquD"
      }
    },
    {
      "cell_type": "code",
      "source": [
        "# Aleatorización y separación de conjunto de validación\n",
        "train_images, val_images, train_labels, val_labels = train_test_split(\n",
        "    train_images, train_labels, test_size=38547, random_state=42, shuffle=True\n",
        ")\n",
        "\n",
        "# Verificar tamaños finales\n",
        "print(\"Tamaño de datos de entrenamiento después de la división:\", train_images.shape)\n",
        "print(\"Tamaño de datos de validación:\", val_images.shape)"
      ],
      "metadata": {
        "colab": {
          "base_uri": "https://localhost:8080/"
        },
        "id": "XelSuy_FXk05",
        "outputId": "2a414b88-aaf4-430e-fca3-0279e9731b54"
      },
      "execution_count": 5,
      "outputs": [
        {
          "output_type": "stream",
          "name": "stdout",
          "text": [
            "Tamaño de datos de entrenamiento después de la división: (193818, 28, 28, 1)\n",
            "Tamaño de datos de validación: (38547, 28, 28, 1)\n"
          ]
        }
      ]
    },
    {
      "cell_type": "markdown",
      "source": [
        "Convertir los labels a categorical"
      ],
      "metadata": {
        "id": "fbsLh_Jt5jAa"
      }
    },
    {
      "cell_type": "code",
      "source": [
        "# Convertir etiquetas a One-Hot Encoding\n",
        "train_labels = to_categorical(train_labels)\n",
        "val_labels = to_categorical(val_labels)\n",
        "test_labels = to_categorical(test_labels)\n",
        "\n",
        "# Verificar la forma de las etiquetas después de la conversión\n",
        "print(\"Dimensión de train_labels (One-Hot):\", train_labels.shape)\n",
        "print(\"Dimensión de val_labels (One-Hot):\", val_labels.shape)\n",
        "print(\"Dimensión de test_labels (One-Hot):\", test_labels.shape)"
      ],
      "metadata": {
        "colab": {
          "base_uri": "https://localhost:8080/"
        },
        "id": "EUxr4OM3hsdc",
        "outputId": "a219d72b-05b8-4492-cf61-6d513bd39fb0"
      },
      "execution_count": 6,
      "outputs": [
        {
          "output_type": "stream",
          "name": "stdout",
          "text": [
            "Dimensión de train_labels (One-Hot): (193818, 49)\n",
            "Dimensión de val_labels (One-Hot): (38547, 49)\n",
            "Dimensión de test_labels (One-Hot): (38547, 49)\n"
          ]
        }
      ]
    },
    {
      "cell_type": "code",
      "source": [
        "def build_model(hp):\n",
        "    model = Sequential()\n",
        "    model.add(Flatten(input_shape=(28, 28, 1)))\n",
        "\n",
        "    for i in range(hp.Int('num_layers', 1, 5)):\n",
        "        model.add(Dense(\n",
        "            units=hp.Int(f'units_{i}', min_value=32, max_value=512, step=32),\n",
        "            activation=hp.Choice('activation', ['relu', 'tanh', 'sigmoid','softmax']),\n",
        "            kernel_initializer=hp.Choice('initializer', ['he_uniform', 'glorot_uniform','glorot_normal']),\n",
        "        ))\n",
        "\n",
        "        # Añadir Dropout después de cada capa oculta\n",
        "        model.add(Dropout(hp.Float('dropout_rate', 0.2, 0.3, step=0.1)))  # Dropout entre 20% y 30%\n",
        "\n",
        "    # Capa de salida\n",
        "    model.add(Dense(49, activation='softmax'))\n",
        "\n",
        "    # Compilar el modelo\n",
        "    model.compile(\n",
        "        optimizer=Adam(hp.Float('learning_rate', 1e-4, 1e-2, sampling='LOG')),\n",
        "        loss='categorical_crossentropy',\n",
        "        metrics=['accuracy']\n",
        "    )\n",
        "\n",
        "    return model\n",
        "\n",
        "# Añadir EarlyStopping\n",
        "early_stop = EarlyStopping(monitor='val_loss', patience=5, restore_best_weights=True)\n",
        "\n",
        "# Tuning\n",
        "tuner = kt.RandomSearch(\n",
        "    build_model,\n",
        "    objective='val_accuracy',\n",
        "    max_trials=10,\n",
        "    directory='my_dir',\n",
        "    project_name='kuzushiji_dense_tuning'\n",
        ")\n",
        "\n",
        "# Ejecutar la búsqueda\n",
        "tuner.search(train_images, train_labels, epochs=10, validation_data=(val_images, val_labels), callbacks=[early_stop])\n",
        "\n",
        "# Obtener los mejores hiperparámetros\n",
        "best_hps = tuner.get_best_hyperparameters(num_trials=1)[0]\n",
        "\n",
        "# Mostrar los mejores parámetros encontrados\n",
        "print(f\"\"\"\n",
        "Mejores hiperparámetros encontrados:\n",
        "- Número de capas ocultas: {best_hps.get('num_layers')}\n",
        "- Neuronas por capa: {[best_hps.get(f'units_{i}') for i in range(best_hps.get('num_layers'))]}\n",
        "- Activación: {best_hps.get('activation')}\n",
        "- Inicializador: {best_hps.get('initializer')}\n",
        "- Learning rate: {best_hps.get('learning_rate')}\n",
        "\"\"\")\n",
        "\n",
        "# Construir el mejor modelo encontrado\n",
        "best_model = tuner.hypermodel.build(best_hps)\n",
        "\n",
        "early_stop = EarlyStopping(\n",
        "    monitor='val_loss',\n",
        "    patience=5,  # Número de épocas sin mejora antes de detener\n",
        "    restore_best_weights=True\n",
        ")\n",
        "\n",
        "history = best_model.fit(\n",
        "    train_images, train_labels,\n",
        "    epochs=20,\n",
        "    batch_size=64,\n",
        "    validation_data=(val_images, val_labels),\n",
        "    callbacks=[early_stop]\n",
        ")\n"
      ],
      "metadata": {
        "colab": {
          "base_uri": "https://localhost:8080/"
        },
        "id": "WPpyYhVG-3-a",
        "outputId": "bc9d6f25-83db-428d-bb9a-938c9722421f"
      },
      "execution_count": 41,
      "outputs": [
        {
          "output_type": "stream",
          "name": "stdout",
          "text": [
            "Reloading Tuner from my_dir/kuzushiji_dense_tuning/tuner0.json\n",
            "\n",
            "Mejores hiperparámetros encontrados:\n",
            "- Número de capas ocultas: 2\n",
            "- Neuronas por capa: [512, 448]\n",
            "- Activación: relu\n",
            "- Inicializador: glorot_normal\n",
            "- Learning rate: 0.00016960331830446725\n",
            "\n",
            "Epoch 1/20\n",
            "\u001b[1m3029/3029\u001b[0m \u001b[32m━━━━━━━━━━━━━━━━━━━━\u001b[0m\u001b[37m\u001b[0m \u001b[1m15s\u001b[0m 4ms/step - accuracy: 0.5538 - loss: 1.8106 - val_accuracy: 0.8071 - val_loss: 0.7434\n",
            "Epoch 2/20\n",
            "\u001b[1m3029/3029\u001b[0m \u001b[32m━━━━━━━━━━━━━━━━━━━━\u001b[0m\u001b[37m\u001b[0m \u001b[1m16s\u001b[0m 3ms/step - accuracy: 0.7942 - loss: 0.7730 - val_accuracy: 0.8556 - val_loss: 0.5386\n",
            "Epoch 3/20\n",
            "\u001b[1m3029/3029\u001b[0m \u001b[32m━━━━━━━━━━━━━━━━━━━━\u001b[0m\u001b[37m\u001b[0m \u001b[1m9s\u001b[0m 3ms/step - accuracy: 0.8407 - loss: 0.5881 - val_accuracy: 0.8806 - val_loss: 0.4432\n",
            "Epoch 4/20\n",
            "\u001b[1m3029/3029\u001b[0m \u001b[32m━━━━━━━━━━━━━━━━━━━━\u001b[0m\u001b[37m\u001b[0m \u001b[1m11s\u001b[0m 4ms/step - accuracy: 0.8660 - loss: 0.4908 - val_accuracy: 0.8927 - val_loss: 0.3947\n",
            "Epoch 5/20\n",
            "\u001b[1m3029/3029\u001b[0m \u001b[32m━━━━━━━━━━━━━━━━━━━━\u001b[0m\u001b[37m\u001b[0m \u001b[1m10s\u001b[0m 3ms/step - accuracy: 0.8815 - loss: 0.4253 - val_accuracy: 0.9013 - val_loss: 0.3622\n",
            "Epoch 6/20\n",
            "\u001b[1m3029/3029\u001b[0m \u001b[32m━━━━━━━━━━━━━━━━━━━━\u001b[0m\u001b[37m\u001b[0m \u001b[1m9s\u001b[0m 3ms/step - accuracy: 0.8947 - loss: 0.3800 - val_accuracy: 0.9088 - val_loss: 0.3362\n",
            "Epoch 7/20\n",
            "\u001b[1m3029/3029\u001b[0m \u001b[32m━━━━━━━━━━━━━━━━━━━━\u001b[0m\u001b[37m\u001b[0m \u001b[1m12s\u001b[0m 3ms/step - accuracy: 0.9018 - loss: 0.3494 - val_accuracy: 0.9130 - val_loss: 0.3180\n",
            "Epoch 8/20\n",
            "\u001b[1m3029/3029\u001b[0m \u001b[32m━━━━━━━━━━━━━━━━━━━━\u001b[0m\u001b[37m\u001b[0m \u001b[1m11s\u001b[0m 4ms/step - accuracy: 0.9110 - loss: 0.3150 - val_accuracy: 0.9171 - val_loss: 0.3019\n",
            "Epoch 9/20\n",
            "\u001b[1m3029/3029\u001b[0m \u001b[32m━━━━━━━━━━━━━━━━━━━━\u001b[0m\u001b[37m\u001b[0m \u001b[1m11s\u001b[0m 4ms/step - accuracy: 0.9155 - loss: 0.2957 - val_accuracy: 0.9197 - val_loss: 0.2941\n",
            "Epoch 10/20\n",
            "\u001b[1m3029/3029\u001b[0m \u001b[32m━━━━━━━━━━━━━━━━━━━━\u001b[0m\u001b[37m\u001b[0m \u001b[1m9s\u001b[0m 3ms/step - accuracy: 0.9218 - loss: 0.2726 - val_accuracy: 0.9216 - val_loss: 0.2847\n",
            "Epoch 11/20\n",
            "\u001b[1m3029/3029\u001b[0m \u001b[32m━━━━━━━━━━━━━━━━━━━━\u001b[0m\u001b[37m\u001b[0m \u001b[1m11s\u001b[0m 4ms/step - accuracy: 0.9255 - loss: 0.2563 - val_accuracy: 0.9236 - val_loss: 0.2787\n",
            "Epoch 12/20\n",
            "\u001b[1m3029/3029\u001b[0m \u001b[32m━━━━━━━━━━━━━━━━━━━━\u001b[0m\u001b[37m\u001b[0m \u001b[1m10s\u001b[0m 3ms/step - accuracy: 0.9295 - loss: 0.2413 - val_accuracy: 0.9258 - val_loss: 0.2701\n",
            "Epoch 13/20\n",
            "\u001b[1m3029/3029\u001b[0m \u001b[32m━━━━━━━━━━━━━━━━━━━━\u001b[0m\u001b[37m\u001b[0m \u001b[1m10s\u001b[0m 3ms/step - accuracy: 0.9341 - loss: 0.2235 - val_accuracy: 0.9269 - val_loss: 0.2663\n",
            "Epoch 14/20\n",
            "\u001b[1m3029/3029\u001b[0m \u001b[32m━━━━━━━━━━━━━━━━━━━━\u001b[0m\u001b[37m\u001b[0m \u001b[1m9s\u001b[0m 3ms/step - accuracy: 0.9371 - loss: 0.2134 - val_accuracy: 0.9276 - val_loss: 0.2644\n",
            "Epoch 15/20\n",
            "\u001b[1m3029/3029\u001b[0m \u001b[32m━━━━━━━━━━━━━━━━━━━━\u001b[0m\u001b[37m\u001b[0m \u001b[1m11s\u001b[0m 4ms/step - accuracy: 0.9399 - loss: 0.2024 - val_accuracy: 0.9303 - val_loss: 0.2614\n",
            "Epoch 16/20\n",
            "\u001b[1m3029/3029\u001b[0m \u001b[32m━━━━━━━━━━━━━━━━━━━━\u001b[0m\u001b[37m\u001b[0m \u001b[1m21s\u001b[0m 4ms/step - accuracy: 0.9415 - loss: 0.1952 - val_accuracy: 0.9303 - val_loss: 0.2584\n",
            "Epoch 17/20\n",
            "\u001b[1m3029/3029\u001b[0m \u001b[32m━━━━━━━━━━━━━━━━━━━━\u001b[0m\u001b[37m\u001b[0m \u001b[1m10s\u001b[0m 3ms/step - accuracy: 0.9449 - loss: 0.1854 - val_accuracy: 0.9309 - val_loss: 0.2591\n",
            "Epoch 18/20\n",
            "\u001b[1m3029/3029\u001b[0m \u001b[32m━━━━━━━━━━━━━━━━━━━━\u001b[0m\u001b[37m\u001b[0m \u001b[1m10s\u001b[0m 3ms/step - accuracy: 0.9469 - loss: 0.1749 - val_accuracy: 0.9314 - val_loss: 0.2553\n",
            "Epoch 19/20\n",
            "\u001b[1m3029/3029\u001b[0m \u001b[32m━━━━━━━━━━━━━━━━━━━━\u001b[0m\u001b[37m\u001b[0m \u001b[1m20s\u001b[0m 3ms/step - accuracy: 0.9486 - loss: 0.1701 - val_accuracy: 0.9323 - val_loss: 0.2545\n",
            "Epoch 20/20\n",
            "\u001b[1m3029/3029\u001b[0m \u001b[32m━━━━━━━━━━━━━━━━━━━━\u001b[0m\u001b[37m\u001b[0m \u001b[1m10s\u001b[0m 3ms/step - accuracy: 0.9501 - loss: 0.1617 - val_accuracy: 0.9328 - val_loss: 0.2567\n"
          ]
        }
      ]
    },
    {
      "cell_type": "code",
      "source": [
        "# Evaluar el modelo en el conjunto de prueba\n",
        "test_loss, test_acc = best_model.evaluate(test_images, test_labels)\n",
        "print(f'\\nPrecisión en el conjunto de prueba: {test_acc * 100:.2f}%')"
      ],
      "metadata": {
        "colab": {
          "base_uri": "https://localhost:8080/"
        },
        "id": "qUXRqWbtJRHQ",
        "outputId": "013c27b8-2002-4a1c-ec14-aa5b3391b6de"
      },
      "execution_count": 42,
      "outputs": [
        {
          "output_type": "stream",
          "name": "stdout",
          "text": [
            "\u001b[1m1205/1205\u001b[0m \u001b[32m━━━━━━━━━━━━━━━━━━━━\u001b[0m\u001b[37m\u001b[0m \u001b[1m3s\u001b[0m 2ms/step - accuracy: 0.8829 - loss: 0.4713\n",
            "\n",
            "Precisión en el conjunto de prueba: 88.20%\n"
          ]
        }
      ]
    },
    {
      "cell_type": "code",
      "source": [
        "# Gráfica de Loss\n",
        "loss = history.history['loss']\n",
        "epochs = range(len(loss))\n",
        "plt.plot(epochs, loss, 'b', label='Pérdida entrenamiento')\n",
        "plt.title('Loss vs. No. epochs')\n",
        "plt.legend()\n",
        "plt.show()"
      ],
      "metadata": {
        "colab": {
          "base_uri": "https://localhost:8080/",
          "height": 452
        },
        "id": "Fhsbut2yJaZ5",
        "outputId": "4588b0c1-1a85-4145-c06d-aef3d0b796bc"
      },
      "execution_count": 43,
      "outputs": [
        {
          "output_type": "display_data",
          "data": {
            "text/plain": [
              "<Figure size 640x480 with 1 Axes>"
            ],
            "image/png": "[encoded data removed]"
          },
          "metadata": {}
        }
      ]
    }
  ]
}